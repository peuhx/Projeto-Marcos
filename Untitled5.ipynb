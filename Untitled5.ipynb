{
  "nbformat": 4,
  "nbformat_minor": 0,
  "metadata": {
    "colab": {
      "provenance": [],
      "authorship_tag": "ABX9TyPa6fi0BQD9L118ydpDHYKt",
      "include_colab_link": true
    },
    "kernelspec": {
      "name": "python3",
      "display_name": "Python 3"
    },
    "language_info": {
      "name": "python"
    }
  },
  "cells": [
    {
      "cell_type": "markdown",
      "metadata": {
        "id": "view-in-github",
        "colab_type": "text"
      },
      "source": [
        "<a href=\"https://colab.research.google.com/github/peuhx/Projeto-Marcos/blob/main/Untitled5.ipynb\" target=\"_parent\"><img src=\"https://colab.research.google.com/assets/colab-badge.svg\" alt=\"Open In Colab\"/></a>"
      ]
    },
    {
      "cell_type": "code",
      "execution_count": 3,
      "metadata": {
        "colab": {
          "base_uri": "https://localhost:8080/"
        },
        "id": "iE1bZ1wHZNIH",
        "outputId": "bd121c01-932b-4c9a-c547-c926d2b01156"
      },
      "outputs": [
        {
          "output_type": "stream",
          "name": "stdout",
          "text": [
            "{'id': 1, 'nome': 'Pedro', 'idade': 18}\n"
          ]
        }
      ],
      "source": [
        "def criar_pessoa(nome: str, idade: int, id: int) -> dict:\n",
        "    return {\n",
        "        \"id\": id,\n",
        "        \"nome\": nome,\n",
        "        \"idade\": idade\n",
        "    }\n",
        "\n",
        "p1 = criar_pessoa(\"Pedro\", 18, 1)\n",
        "p2 = criar_pessoa(\"Alice\", 18, 2)\n",
        "p3 = criar_pessoa(\"Sabrina\", 18, 3)\n",
        "\n",
        "print(p1)\n"
      ]
    },
    {
      "cell_type": "code",
      "source": [],
      "metadata": {
        "id": "OnFI0uGnas5m"
      },
      "execution_count": null,
      "outputs": []
    }
  ]
}