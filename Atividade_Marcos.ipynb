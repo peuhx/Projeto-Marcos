{
  "nbformat": 4,
  "nbformat_minor": 0,
  "metadata": {
    "colab": {
      "provenance": [],
      "authorship_tag": "ABX9TyNmJ9YgUdd77+beVtJFf/Y1",
      "include_colab_link": true
    },
    "kernelspec": {
      "name": "python3",
      "display_name": "Python 3"
    },
    "language_info": {
      "name": "python"
    }
  },
  "cells": [
    {
      "cell_type": "markdown",
      "metadata": {
        "id": "view-in-github",
        "colab_type": "text"
      },
      "source": [
        "<a href=\"https://colab.research.google.com/github/peuhx/Projeto-Marcos/blob/main/Atividade_Marcos.ipynb\" target=\"_parent\"><img src=\"https://colab.research.google.com/assets/colab-badge.svg\" alt=\"Open In Colab\"/></a>"
      ]
    },
    {
      "cell_type": "code",
      "execution_count": 3,
      "metadata": {
        "colab": {
          "base_uri": "https://localhost:8080/"
        },
        "id": "iE1bZ1wHZNIH",
        "outputId": "bd121c01-932b-4c9a-c547-c926d2b01156"
      },
      "outputs": [
        {
          "output_type": "stream",
          "name": "stdout",
          "text": [
            "{'id': 1, 'nome': 'Pedro', 'idade': 18}\n"
          ]
        }
      ],
      "source": [
        "#Questão 1\n",
        "\n",
        "def criar_pessoa(nome: str, idade: int, id: int) -> dict:\n",
        "    return {\n",
        "        \"id\": id,\n",
        "        \"nome\": nome,\n",
        "        \"idade\": idade\n",
        "    }\n",
        "\n",
        "p1 = criar_pessoa(\"Andre\", 39, 1)\n",
        "p2 = criar_pessoa(\"Carlos\", 45, 2)\n",
        "p3 = criar_pessoa(\"Felipe\", 34, 3)\n",
        "\n",
        "print(p1)\n"
      ]
    },
    {
      "cell_type": "code",
      "source": [
        "#Questão 2\n",
        "\n",
        "def adicionar_gostos(pessoas: list, gostos: list) -> list:\n",
        "    mapa_gostos = {g['id']: g['gostos'] for g in gostos}\n",
        "\n",
        "\n",
        "    resultado = []\n",
        "    for pessoa in pessoas[:5]:\n",
        "        id_pessoa = pessoa['id']\n",
        "        pessoa_completa = pessoa.copy()\n",
        "        pessoa_completa['gostos'] = mapa_gostos.get(id_pessoa, [])\n",
        "        resultado.append(pessoa_completa)\n",
        "\n",
        "    return resultado\n",
        "\n",
        "pessoas = [\n",
        "    criar_pessoa(\"Pedro\", 18, 1),\n",
        "    criar_pessoa(\"Julia\", 18, 2),\n",
        "    criar_pessoa(\"Joao\", 18, 3),\n",
        "    criar_pessoa(\"Jonas\", 18, 4),\n",
        "    criar_pessoa(\"Judite\", 18, 5),\n",
        "    criar_pessoa(\"Joana Darque\", 18, 6)\n",
        "]\n",
        "\n",
        "gostos = [l\n",
        "    {\"id\": 1, \"gostos\": [\"Moda\", \"Ciência\"]},\n",
        "    {\"id\": 2, \"gostos\": [\"História\", \"Games\"]},\n",
        "    {\"id\": 3, \"gostos\": [\"Cinema\"]},\n",
        "    {\"id\": 4, \"gostos\": [\"Natureza\", \"Futebol\"]},\n",
        "    {\"id\": 5, \"gostos\": [\"Poltica\", \"Dança\"]},\n",
        "    {\"id\": 6, \"gostos\": [\"Politica\", \"História\"]}\n",
        "]\n",
        "\n",
        "resultado = adicionar_gostos(pessoas, gostos)\n",
        "print(resultado)\n"
      ],
      "metadata": {
        "colab": {
          "base_uri": "https://localhost:8080/"
        },
        "id": "OnFI0uGnas5m",
        "outputId": "4b9bda27-3cfa-467f-b1da-c807b3e17f62"
      },
      "execution_count": 6,
      "outputs": [
        {
          "output_type": "stream",
          "name": "stdout",
          "text": [
            "[{'id': 1, 'nome': 'Pedro', 'idade': 18, 'gostos': ['Música', 'Futebol']}, {'id': 2, 'nome': 'Julia', 'idade': 18, 'gostos': ['Comer', 'Cinema']}, {'id': 3, 'nome': 'Joao', 'idade': 18, 'gostos': ['Viajar']}, {'id': 4, 'nome': 'Jonas', 'idade': 18, 'gostos': ['Jogos', 'Esportes']}, {'id': 5, 'nome': 'Judite', 'idade': 18, 'gostos': ['Jogos', 'Culinária']}]\n"
          ]
        }
      ]
    },
    {
      "cell_type": "code",
      "source": [
        "#Questao 3\n",
        "\n",
        "import pandas as pd\n",
        "\n",
        "def exportar_csv(pessoas: list, nome_arquivo: str):\n",
        "\n",
        "    df = pd.DataFrame(pessoas)\n",
        "\n",
        "    dados = pd.read_csv('pessoas.csv')\n",
        "    df.to_csv(nome_arquivo, index=False)\n",
        "\n",
        "exportar_csv(resultado, 'pessoas.csv')"
      ],
      "metadata": {
        "id": "zQ1Ep_82hJ39"
      },
      "execution_count": 30,
      "outputs": []
    },
    {
      "cell_type": "code",
      "source": [
        "#Questão 4\n",
        "\n",
        "def ordenar_lista(numeros: list[int]) -> list[int]:\n",
        "    return sorted(numeros)\n",
        "\n",
        "lista = [51, 76, 34, 76, 88, 11, 99, 72, 33, 77]\n",
        "resultado = ordenar_lista(lista)\n",
        "print(resultado)\n"
      ],
      "metadata": {
        "colab": {
          "base_uri": "https://localhost:8080/"
        },
        "id": "Dldpuw8ac8E2",
        "outputId": "19a8b33b-8253-4f5a-c33c-35ca1c8e0394"
      },
      "execution_count": 14,
      "outputs": [
        {
          "output_type": "stream",
          "name": "stdout",
          "text": [
            "[11, 33, 34, 51, 72, 76, 76, 77, 88, 99]\n"
          ]
        }
      ]
    },
    {
      "cell_type": "code",
      "source": [
        "#Questão 5\n",
        "def top_tres_maiores(numeros: list[int]) -> list[int]:\n",
        "\n",
        "    return sorted(numeros, reverse=True)[:3]\n",
        "\n",
        "lista = [7, 55, 67, 23, 88, 99, 67, 87, 45, 21, 22, 33]\n",
        "resultado = top_tres_maiores(lista)\n",
        "print(resultado)\n"
      ],
      "metadata": {
        "colab": {
          "base_uri": "https://localhost:8080/"
        },
        "id": "T5NLo2GDelx-",
        "outputId": "2d71d44e-25c3-4143-f109-12f9e2f1ca66"
      },
      "execution_count": 18,
      "outputs": [
        {
          "output_type": "stream",
          "name": "stdout",
          "text": [
            "[99, 88, 87]\n"
          ]
        }
      ]
    }
  ]
}